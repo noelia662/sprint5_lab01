{
 "cells": [
  {
   "cell_type": "code",
   "execution_count": 1,
   "id": "9a72b0e1-0623-490e-92a9-89a1a9d748c8",
   "metadata": {},
   "outputs": [
    {
     "name": "stdout",
     "output_type": "stream",
     "text": [
      "Promedio de las puntuaciones: 86.60\n",
      "Puntuación máxima: 92\n",
      "Total de las puntuaciones: 433\n"
     ]
    }
   ],
   "source": [
    "# Lista de puntuaciones de 5 estudiantes (valores entre 1 y 100)\n",
    "puntuaciones = [85, 90, 78, 92, 88]\n",
    "\n",
    "# Función para calcular el promedio de las puntuaciones\n",
    "def calcular_promedio_puntuaciones(puntuaciones):\n",
    "    # Variable para almacenar la suma total de las puntuaciones\n",
    "    total_puntos = 0\n",
    "    # Sumar todas las puntuaciones usando un bucle\n",
    "    for puntuacion in puntuaciones:\n",
    "        total_puntos += puntuacion\n",
    "    # Calcular el promedio dividiendo el total por la cantidad de estudiantes\n",
    "    promedio = total_puntos / len(puntuaciones)\n",
    "    return promedio\n",
    "\n",
    "# Función para encontrar la puntuación máxima\n",
    "def calcular_puntuacion_maxima(puntuaciones):\n",
    "    # Inicializar la puntuación máxima con el primer valor de la lista\n",
    "    puntuacion_maxima = puntuaciones[0]\n",
    "    # Recorrer la lista y comparar para encontrar la puntuación más alta\n",
    "    for puntuacion in puntuaciones:\n",
    "        if puntuacion > puntuacion_maxima:\n",
    "            puntuacion_maxima = puntuacion\n",
    "    return puntuacion_maxima\n",
    "\n",
    "# Función para calcular el total de las puntuaciones\n",
    "def calcular_total_puntuaciones(puntuaciones):\n",
    "    # Variable para almacenar la suma total de las puntuaciones\n",
    "    total_puntos = 0\n",
    "    # Sumar todas las puntuaciones usando un bucle\n",
    "    for puntuacion in puntuaciones:\n",
    "        total_puntos += puntuacion\n",
    "    return total_puntos\n",
    "\n",
    "# Probamos las funciones con la lista de puntuaciones\n",
    "promedio = calcular_promedio_puntuaciones(puntuaciones)\n",
    "puntuacion_maxima = calcular_puntuacion_maxima(puntuaciones)\n",
    "total_puntos = calcular_total_puntuaciones(puntuaciones)\n",
    "\n",
    "# Imprimir los resultados\n",
    "print(f\"Promedio de las puntuaciones: {promedio:.2f}\")  # Mostramos el promedio con 2 decimales\n",
    "print(f\"Puntuación máxima: {puntuacion_maxima}\")  # Mostramos la puntuación máxima\n",
    "print(f\"Total de las puntuaciones: {total_puntos}\")  # Mostramos el total de las puntuaciones\n"
   ]
  },
  {
   "cell_type": "code",
   "execution_count": null,
   "id": "570b8eb3-325c-4b23-8f15-d05ac4ef8311",
   "metadata": {},
   "outputs": [],
   "source": []
  }
 ],
 "metadata": {
  "kernelspec": {
   "display_name": "Python [conda env:base] *",
   "language": "python",
   "name": "conda-base-py"
  },
  "language_info": {
   "codemirror_mode": {
    "name": "ipython",
    "version": 3
   },
   "file_extension": ".py",
   "mimetype": "text/x-python",
   "name": "python",
   "nbconvert_exporter": "python",
   "pygments_lexer": "ipython3",
   "version": "3.12.7"
  }
 },
 "nbformat": 4,
 "nbformat_minor": 5
}
